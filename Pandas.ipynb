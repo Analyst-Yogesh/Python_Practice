{
 "cells": [
  {
   "cell_type": "code",
   "execution_count": 3,
   "id": "d30dd5b8-316e-4696-91f0-c70f19c6a3a7",
   "metadata": {},
   "outputs": [],
   "source": [
    "import pandas as pd\n",
    "import numpy as np"
   ]
  },
  {
   "cell_type": "code",
   "execution_count": 9,
   "id": "33b093bb-c8ff-4a28-87a4-933b519acb85",
   "metadata": {},
   "outputs": [],
   "source": [
    "df=pd.DataFrame(np.random.rand(334,5), index=np.arange(334))\n",
    "df1={\"Name\":[\"Pavan\",\"pavani\",\"yogesh\"],\n",
    "     \"Sex\":[\"M\",\"F\",\"M\"],\n",
    "     \"Marks\":[100,110,50]\n",
    "    \n",
    "}"
   ]
  },
  {
   "cell_type": "code",
   "execution_count": 11,
   "id": "3c95a33a-c5bc-404a-8e4d-4368ff8fa2ca",
   "metadata": {},
   "outputs": [],
   "source": [
    "data=pd.DataFrame(df1)"
   ]
  },
  {
   "cell_type": "code",
   "execution_count": 12,
   "id": "dc4686b0-6c6b-4eb4-b55a-d4cb2190b050",
   "metadata": {},
   "outputs": [
    {
     "data": {
      "text/html": [
       "<div>\n",
       "<style scoped>\n",
       "    .dataframe tbody tr th:only-of-type {\n",
       "        vertical-align: middle;\n",
       "    }\n",
       "\n",
       "    .dataframe tbody tr th {\n",
       "        vertical-align: top;\n",
       "    }\n",
       "\n",
       "    .dataframe thead th {\n",
       "        text-align: right;\n",
       "    }\n",
       "</style>\n",
       "<table border=\"1\" class=\"dataframe\">\n",
       "  <thead>\n",
       "    <tr style=\"text-align: right;\">\n",
       "      <th></th>\n",
       "      <th>Name</th>\n",
       "      <th>Sex</th>\n",
       "      <th>Marks</th>\n",
       "    </tr>\n",
       "  </thead>\n",
       "  <tbody>\n",
       "    <tr>\n",
       "      <th>0</th>\n",
       "      <td>Pavan</td>\n",
       "      <td>M</td>\n",
       "      <td>100</td>\n",
       "    </tr>\n",
       "    <tr>\n",
       "      <th>1</th>\n",
       "      <td>pavani</td>\n",
       "      <td>F</td>\n",
       "      <td>110</td>\n",
       "    </tr>\n",
       "    <tr>\n",
       "      <th>2</th>\n",
       "      <td>yogesh</td>\n",
       "      <td>M</td>\n",
       "      <td>50</td>\n",
       "    </tr>\n",
       "  </tbody>\n",
       "</table>\n",
       "</div>"
      ],
      "text/plain": [
       "     Name Sex  Marks\n",
       "0   Pavan   M    100\n",
       "1  pavani   F    110\n",
       "2  yogesh   M     50"
      ]
     },
     "execution_count": 12,
     "metadata": {},
     "output_type": "execute_result"
    }
   ],
   "source": [
    "data"
   ]
  },
  {
   "cell_type": "code",
   "execution_count": 19,
   "id": "38bbda83-5a1c-45ae-9970-ace9979a9142",
   "metadata": {},
   "outputs": [
    {
     "data": {
      "text/html": [
       "<div>\n",
       "<style scoped>\n",
       "    .dataframe tbody tr th:only-of-type {\n",
       "        vertical-align: middle;\n",
       "    }\n",
       "\n",
       "    .dataframe tbody tr th {\n",
       "        vertical-align: top;\n",
       "    }\n",
       "\n",
       "    .dataframe thead th {\n",
       "        text-align: right;\n",
       "    }\n",
       "</style>\n",
       "<table border=\"1\" class=\"dataframe\">\n",
       "  <thead>\n",
       "    <tr style=\"text-align: right;\">\n",
       "      <th></th>\n",
       "      <th>Sex</th>\n",
       "    </tr>\n",
       "  </thead>\n",
       "  <tbody>\n",
       "    <tr>\n",
       "      <th>1</th>\n",
       "      <td>F</td>\n",
       "    </tr>\n",
       "  </tbody>\n",
       "</table>\n",
       "</div>"
      ],
      "text/plain": [
       "  Sex\n",
       "1   F"
      ]
     },
     "execution_count": 19,
     "metadata": {},
     "output_type": "execute_result"
    }
   ],
   "source": [
    "data.loc[[1],[\"Sex\"]]"
   ]
  },
  {
   "cell_type": "code",
   "execution_count": 105,
   "id": "c663e3cb-2272-49b3-8a6b-3f6186dc022a",
   "metadata": {},
   "outputs": [
    {
     "data": {
      "text/html": [
       "<div>\n",
       "<style scoped>\n",
       "    .dataframe tbody tr th:only-of-type {\n",
       "        vertical-align: middle;\n",
       "    }\n",
       "\n",
       "    .dataframe tbody tr th {\n",
       "        vertical-align: top;\n",
       "    }\n",
       "\n",
       "    .dataframe thead th {\n",
       "        text-align: right;\n",
       "    }\n",
       "</style>\n",
       "<table border=\"1\" class=\"dataframe\">\n",
       "  <thead>\n",
       "    <tr style=\"text-align: right;\">\n",
       "      <th></th>\n",
       "      <th>0</th>\n",
       "      <th>1</th>\n",
       "      <th>2</th>\n",
       "      <th>3</th>\n",
       "      <th>4</th>\n",
       "    </tr>\n",
       "  </thead>\n",
       "  <tbody>\n",
       "    <tr>\n",
       "      <th>0</th>\n",
       "      <td>0.785283</td>\n",
       "      <td>0.682234</td>\n",
       "      <td>0.289487</td>\n",
       "      <td>0.875670</td>\n",
       "      <td>0.715773</td>\n",
       "    </tr>\n",
       "    <tr>\n",
       "      <th>1</th>\n",
       "      <td>0.20173</td>\n",
       "      <td>0.367251</td>\n",
       "      <td>0.849425</td>\n",
       "      <td>0.083838</td>\n",
       "      <td>0.485253</td>\n",
       "    </tr>\n",
       "    <tr>\n",
       "      <th>2</th>\n",
       "      <td>0.330398</td>\n",
       "      <td>0.219359</td>\n",
       "      <td>0.180389</td>\n",
       "      <td>0.714272</td>\n",
       "      <td>0.034555</td>\n",
       "    </tr>\n",
       "    <tr>\n",
       "      <th>3</th>\n",
       "      <td>0.734181</td>\n",
       "      <td>0.025828</td>\n",
       "      <td>0.212320</td>\n",
       "      <td>0.648769</td>\n",
       "      <td>0.784168</td>\n",
       "    </tr>\n",
       "    <tr>\n",
       "      <th>4</th>\n",
       "      <td>0.856888</td>\n",
       "      <td>0.644217</td>\n",
       "      <td>0.155083</td>\n",
       "      <td>0.795347</td>\n",
       "      <td>0.284372</td>\n",
       "    </tr>\n",
       "  </tbody>\n",
       "</table>\n",
       "</div>"
      ],
      "text/plain": [
       "          0         1         2         3         4\n",
       "0  0.785283  0.682234  0.289487  0.875670  0.715773\n",
       "1   0.20173  0.367251  0.849425  0.083838  0.485253\n",
       "2  0.330398  0.219359  0.180389  0.714272  0.034555\n",
       "3  0.734181  0.025828  0.212320  0.648769  0.784168\n",
       "4  0.856888  0.644217  0.155083  0.795347  0.284372"
      ]
     },
     "execution_count": 105,
     "metadata": {},
     "output_type": "execute_result"
    }
   ],
   "source": [
    "df.head(5)"
   ]
  },
  {
   "cell_type": "code",
   "execution_count": 6,
   "id": "60fa620e-2f27-4dc3-9427-9775b4d3f4c3",
   "metadata": {},
   "outputs": [
    {
     "name": "stderr",
     "output_type": "stream",
     "text": [
      "C:\\Users\\pavan\\AppData\\Local\\Temp\\ipykernel_14452\\2264022742.py:1: FutureWarning: Setting an item of incompatible dtype is deprecated and will raise an error in a future version of pandas. Value 'siba' has dtype incompatible with float64, please explicitly cast to a compatible dtype first.\n",
      "  df.loc[[333],[0]]=\"siba\"\n"
     ]
    }
   ],
   "source": [
    "df.loc[[333],[0]]=\"siba\""
   ]
  },
  {
   "cell_type": "code",
   "execution_count": 107,
   "id": "58c10418-91b1-49bc-b9fc-27d6e042c5b2",
   "metadata": {},
   "outputs": [
    {
     "data": {
      "text/html": [
       "<div>\n",
       "<style scoped>\n",
       "    .dataframe tbody tr th:only-of-type {\n",
       "        vertical-align: middle;\n",
       "    }\n",
       "\n",
       "    .dataframe tbody tr th {\n",
       "        vertical-align: top;\n",
       "    }\n",
       "\n",
       "    .dataframe thead th {\n",
       "        text-align: right;\n",
       "    }\n",
       "</style>\n",
       "<table border=\"1\" class=\"dataframe\">\n",
       "  <thead>\n",
       "    <tr style=\"text-align: right;\">\n",
       "      <th></th>\n",
       "      <th>0</th>\n",
       "      <th>1</th>\n",
       "      <th>2</th>\n",
       "      <th>3</th>\n",
       "      <th>4</th>\n",
       "    </tr>\n",
       "  </thead>\n",
       "  <tbody>\n",
       "    <tr>\n",
       "      <th>332</th>\n",
       "      <td>0.990577</td>\n",
       "      <td>0.333547</td>\n",
       "      <td>0.467822</td>\n",
       "      <td>0.949119</td>\n",
       "      <td>0.199752</td>\n",
       "    </tr>\n",
       "    <tr>\n",
       "      <th>333</th>\n",
       "      <td>siba</td>\n",
       "      <td>0.098689</td>\n",
       "      <td>0.956402</td>\n",
       "      <td>0.682587</td>\n",
       "      <td>0.961135</td>\n",
       "    </tr>\n",
       "  </tbody>\n",
       "</table>\n",
       "</div>"
      ],
      "text/plain": [
       "            0         1         2         3         4\n",
       "332  0.990577  0.333547  0.467822  0.949119  0.199752\n",
       "333      siba  0.098689  0.956402  0.682587  0.961135"
      ]
     },
     "execution_count": 107,
     "metadata": {},
     "output_type": "execute_result"
    }
   ],
   "source": [
    "df.tail(2)"
   ]
  },
  {
   "cell_type": "code",
   "execution_count": 108,
   "id": "ed72d4eb-dda0-49fd-a355-196068068a61",
   "metadata": {},
   "outputs": [
    {
     "data": {
      "text/plain": [
       "'siba'"
      ]
     },
     "execution_count": 108,
     "metadata": {},
     "output_type": "execute_result"
    }
   ],
   "source": [
    "df[0][333]\n"
   ]
  },
  {
   "cell_type": "code",
   "execution_count": 7,
   "id": "ae53dbb4-db9b-4971-8010-3fd71c572d4f",
   "metadata": {},
   "outputs": [
    {
     "data": {
      "text/html": [
       "<div>\n",
       "<style scoped>\n",
       "    .dataframe tbody tr th:only-of-type {\n",
       "        vertical-align: middle;\n",
       "    }\n",
       "\n",
       "    .dataframe tbody tr th {\n",
       "        vertical-align: top;\n",
       "    }\n",
       "\n",
       "    .dataframe thead th {\n",
       "        text-align: right;\n",
       "    }\n",
       "</style>\n",
       "<table border=\"1\" class=\"dataframe\">\n",
       "  <thead>\n",
       "    <tr style=\"text-align: right;\">\n",
       "      <th></th>\n",
       "      <th>0</th>\n",
       "      <th>1</th>\n",
       "      <th>2</th>\n",
       "      <th>3</th>\n",
       "      <th>4</th>\n",
       "    </tr>\n",
       "  </thead>\n",
       "  <tbody>\n",
       "    <tr>\n",
       "      <th>331</th>\n",
       "      <td>0.626125</td>\n",
       "      <td>0.703366</td>\n",
       "      <td>0.007981</td>\n",
       "      <td>0.109103</td>\n",
       "      <td>0.056424</td>\n",
       "    </tr>\n",
       "    <tr>\n",
       "      <th>332</th>\n",
       "      <td>0.513425</td>\n",
       "      <td>0.568479</td>\n",
       "      <td>0.060522</td>\n",
       "      <td>0.594541</td>\n",
       "      <td>0.353591</td>\n",
       "    </tr>\n",
       "    <tr>\n",
       "      <th>333</th>\n",
       "      <td>siba</td>\n",
       "      <td>0.255404</td>\n",
       "      <td>0.113910</td>\n",
       "      <td>0.830858</td>\n",
       "      <td>0.496152</td>\n",
       "    </tr>\n",
       "  </tbody>\n",
       "</table>\n",
       "</div>"
      ],
      "text/plain": [
       "            0         1         2         3         4\n",
       "331  0.626125  0.703366  0.007981  0.109103  0.056424\n",
       "332  0.513425  0.568479  0.060522  0.594541  0.353591\n",
       "333      siba  0.255404  0.113910  0.830858  0.496152"
      ]
     },
     "execution_count": 7,
     "metadata": {},
     "output_type": "execute_result"
    }
   ],
   "source": [
    "df.tail(3)"
   ]
  },
  {
   "cell_type": "code",
   "execution_count": 109,
   "id": "a1b84ded-1834-40f1-83bd-fd330091975a",
   "metadata": {},
   "outputs": [
    {
     "data": {
      "text/plain": [
       "Index([  0,   1,   2,   3,   4,   5,   6,   7,   8,   9,\n",
       "       ...\n",
       "       324, 325, 326, 327, 328, 329, 330, 331, 332, 333],\n",
       "      dtype='int64', length=334)"
      ]
     },
     "execution_count": 109,
     "metadata": {},
     "output_type": "execute_result"
    }
   ],
   "source": [
    "df.index"
   ]
  },
  {
   "cell_type": "code",
   "execution_count": 110,
   "id": "5a3ac6fd-6b3a-41ca-9943-077e4edfb85c",
   "metadata": {},
   "outputs": [
    {
     "data": {
      "text/plain": [
       "RangeIndex(start=0, stop=5, step=1)"
      ]
     },
     "execution_count": 110,
     "metadata": {},
     "output_type": "execute_result"
    }
   ],
   "source": [
    "df.columns\n"
   ]
  },
  {
   "cell_type": "code",
   "execution_count": 119,
   "id": "79117123-2570-4ff2-b398-8c4516ff012a",
   "metadata": {},
   "outputs": [
    {
     "data": {
      "text/plain": [
       "array([[0.07471106, 0.18475108, 0.24512611, 0.73605382, 0.8462296 ],\n",
       "       [0.45632443, 0.95645097, 0.86503239, 0.12049898, 0.36208276],\n",
       "       [0.24067323, 0.83916724, 0.32218581, 0.40828404, 0.47377764],\n",
       "       ...,\n",
       "       [0.96127971, 0.78812454, 0.80056423, 0.07150398, 0.2866383 ],\n",
       "       [0.23307227, 0.18345276, 0.17085279, 0.22330742, 0.58271646],\n",
       "       [0.35722469, 0.97922087, 0.57407166, 0.98337357, 0.76543382]])"
      ]
     },
     "execution_count": 119,
     "metadata": {},
     "output_type": "execute_result"
    }
   ],
   "source": [
    "df.to_numpy()"
   ]
  },
  {
   "cell_type": "code",
   "execution_count": 118,
   "id": "f0cb8a91-7d82-4380-9b68-c3f92813c762",
   "metadata": {},
   "outputs": [
    {
     "data": {
      "text/html": [
       "<div>\n",
       "<style scoped>\n",
       "    .dataframe tbody tr th:only-of-type {\n",
       "        vertical-align: middle;\n",
       "    }\n",
       "\n",
       "    .dataframe tbody tr th {\n",
       "        vertical-align: top;\n",
       "    }\n",
       "\n",
       "    .dataframe thead th {\n",
       "        text-align: right;\n",
       "    }\n",
       "</style>\n",
       "<table border=\"1\" class=\"dataframe\">\n",
       "  <thead>\n",
       "    <tr style=\"text-align: right;\">\n",
       "      <th></th>\n",
       "      <th>0</th>\n",
       "      <th>1</th>\n",
       "      <th>2</th>\n",
       "      <th>3</th>\n",
       "      <th>4</th>\n",
       "    </tr>\n",
       "  </thead>\n",
       "  <tbody>\n",
       "    <tr>\n",
       "      <th>0</th>\n",
       "      <td>0.074711</td>\n",
       "      <td>0.184751</td>\n",
       "      <td>0.245126</td>\n",
       "      <td>0.736054</td>\n",
       "      <td>0.846230</td>\n",
       "    </tr>\n",
       "    <tr>\n",
       "      <th>1</th>\n",
       "      <td>0.456324</td>\n",
       "      <td>0.956451</td>\n",
       "      <td>0.865032</td>\n",
       "      <td>0.120499</td>\n",
       "      <td>0.362083</td>\n",
       "    </tr>\n",
       "    <tr>\n",
       "      <th>2</th>\n",
       "      <td>0.240673</td>\n",
       "      <td>0.839167</td>\n",
       "      <td>0.322186</td>\n",
       "      <td>0.408284</td>\n",
       "      <td>0.473778</td>\n",
       "    </tr>\n",
       "    <tr>\n",
       "      <th>3</th>\n",
       "      <td>0.489025</td>\n",
       "      <td>0.047429</td>\n",
       "      <td>0.060861</td>\n",
       "      <td>0.700402</td>\n",
       "      <td>0.552918</td>\n",
       "    </tr>\n",
       "    <tr>\n",
       "      <th>4</th>\n",
       "      <td>0.427410</td>\n",
       "      <td>0.107365</td>\n",
       "      <td>0.753621</td>\n",
       "      <td>0.898225</td>\n",
       "      <td>0.827463</td>\n",
       "    </tr>\n",
       "    <tr>\n",
       "      <th>...</th>\n",
       "      <td>...</td>\n",
       "      <td>...</td>\n",
       "      <td>...</td>\n",
       "      <td>...</td>\n",
       "      <td>...</td>\n",
       "    </tr>\n",
       "    <tr>\n",
       "      <th>329</th>\n",
       "      <td>0.335668</td>\n",
       "      <td>0.790983</td>\n",
       "      <td>0.807358</td>\n",
       "      <td>0.616209</td>\n",
       "      <td>0.387721</td>\n",
       "    </tr>\n",
       "    <tr>\n",
       "      <th>330</th>\n",
       "      <td>0.905500</td>\n",
       "      <td>0.077560</td>\n",
       "      <td>0.027601</td>\n",
       "      <td>0.499491</td>\n",
       "      <td>0.589579</td>\n",
       "    </tr>\n",
       "    <tr>\n",
       "      <th>331</th>\n",
       "      <td>0.961280</td>\n",
       "      <td>0.788125</td>\n",
       "      <td>0.800564</td>\n",
       "      <td>0.071504</td>\n",
       "      <td>0.286638</td>\n",
       "    </tr>\n",
       "    <tr>\n",
       "      <th>332</th>\n",
       "      <td>0.233072</td>\n",
       "      <td>0.183453</td>\n",
       "      <td>0.170853</td>\n",
       "      <td>0.223307</td>\n",
       "      <td>0.582716</td>\n",
       "    </tr>\n",
       "    <tr>\n",
       "      <th>333</th>\n",
       "      <td>0.357225</td>\n",
       "      <td>0.979221</td>\n",
       "      <td>0.574072</td>\n",
       "      <td>0.983374</td>\n",
       "      <td>0.765434</td>\n",
       "    </tr>\n",
       "  </tbody>\n",
       "</table>\n",
       "<p>334 rows × 5 columns</p>\n",
       "</div>"
      ],
      "text/plain": [
       "            0         1         2         3         4\n",
       "0    0.074711  0.184751  0.245126  0.736054  0.846230\n",
       "1    0.456324  0.956451  0.865032  0.120499  0.362083\n",
       "2    0.240673  0.839167  0.322186  0.408284  0.473778\n",
       "3    0.489025  0.047429  0.060861  0.700402  0.552918\n",
       "4    0.427410  0.107365  0.753621  0.898225  0.827463\n",
       "..        ...       ...       ...       ...       ...\n",
       "329  0.335668  0.790983  0.807358  0.616209  0.387721\n",
       "330  0.905500  0.077560  0.027601  0.499491  0.589579\n",
       "331  0.961280  0.788125  0.800564  0.071504  0.286638\n",
       "332  0.233072  0.183453  0.170853  0.223307  0.582716\n",
       "333  0.357225  0.979221  0.574072  0.983374  0.765434\n",
       "\n",
       "[334 rows x 5 columns]"
      ]
     },
     "execution_count": 118,
     "metadata": {},
     "output_type": "execute_result"
    }
   ],
   "source": [
    "df"
   ]
  },
  {
   "cell_type": "code",
   "execution_count": 120,
   "id": "6199b487-490d-4f4f-95a5-9b9a983afa58",
   "metadata": {},
   "outputs": [
    {
     "data": {
      "text/plain": [
       "pandas.core.frame.DataFrame"
      ]
     },
     "execution_count": 120,
     "metadata": {},
     "output_type": "execute_result"
    }
   ],
   "source": [
    "type(df)"
   ]
  },
  {
   "cell_type": "code",
   "execution_count": 179,
   "id": "026cc2a6-175b-4852-bf05-b657720e1778",
   "metadata": {},
   "outputs": [
    {
     "data": {
      "text/html": [
       "<div>\n",
       "<style scoped>\n",
       "    .dataframe tbody tr th:only-of-type {\n",
       "        vertical-align: middle;\n",
       "    }\n",
       "\n",
       "    .dataframe tbody tr th {\n",
       "        vertical-align: top;\n",
       "    }\n",
       "\n",
       "    .dataframe thead th {\n",
       "        text-align: right;\n",
       "    }\n",
       "</style>\n",
       "<table border=\"1\" class=\"dataframe\">\n",
       "  <thead>\n",
       "    <tr style=\"text-align: right;\">\n",
       "      <th></th>\n",
       "      <th>0</th>\n",
       "      <th>1</th>\n",
       "      <th>2</th>\n",
       "      <th>3</th>\n",
       "      <th>4</th>\n",
       "    </tr>\n",
       "  </thead>\n",
       "  <tbody>\n",
       "    <tr>\n",
       "      <th>0</th>\n",
       "      <td>0.736152</td>\n",
       "      <td>0.968261</td>\n",
       "      <td>0.444183</td>\n",
       "      <td>0.332367</td>\n",
       "      <td>0.296220</td>\n",
       "    </tr>\n",
       "    <tr>\n",
       "      <th>1</th>\n",
       "      <td>0.199034</td>\n",
       "      <td>0.409356</td>\n",
       "      <td>0.705476</td>\n",
       "      <td>0.733176</td>\n",
       "      <td>0.691570</td>\n",
       "    </tr>\n",
       "    <tr>\n",
       "      <th>2</th>\n",
       "      <td>0.008146</td>\n",
       "      <td>0.749982</td>\n",
       "      <td>0.093362</td>\n",
       "      <td>0.129468</td>\n",
       "      <td>0.474763</td>\n",
       "    </tr>\n",
       "    <tr>\n",
       "      <th>3</th>\n",
       "      <td>0.341940</td>\n",
       "      <td>0.294000</td>\n",
       "      <td>0.805534</td>\n",
       "      <td>0.812826</td>\n",
       "      <td>0.039391</td>\n",
       "    </tr>\n",
       "    <tr>\n",
       "      <th>4</th>\n",
       "      <td>0.775285</td>\n",
       "      <td>0.692634</td>\n",
       "      <td>0.909390</td>\n",
       "      <td>0.826066</td>\n",
       "      <td>0.599017</td>\n",
       "    </tr>\n",
       "  </tbody>\n",
       "</table>\n",
       "</div>"
      ],
      "text/plain": [
       "          0         1         2         3         4\n",
       "0  0.736152  0.968261  0.444183  0.332367  0.296220\n",
       "1  0.199034  0.409356  0.705476  0.733176  0.691570\n",
       "2  0.008146  0.749982  0.093362  0.129468  0.474763\n",
       "3  0.341940  0.294000  0.805534  0.812826  0.039391\n",
       "4  0.775285  0.692634  0.909390  0.826066  0.599017"
      ]
     },
     "execution_count": 179,
     "metadata": {},
     "output_type": "execute_result"
    }
   ],
   "source": [
    "df.head()"
   ]
  },
  {
   "cell_type": "code",
   "execution_count": 135,
   "id": "1fdd1596-a4ff-465a-ae21-8f5e83b373de",
   "metadata": {},
   "outputs": [
    {
     "data": {
      "text/html": [
       "<div>\n",
       "<style scoped>\n",
       "    .dataframe tbody tr th:only-of-type {\n",
       "        vertical-align: middle;\n",
       "    }\n",
       "\n",
       "    .dataframe tbody tr th {\n",
       "        vertical-align: top;\n",
       "    }\n",
       "\n",
       "    .dataframe thead th {\n",
       "        text-align: right;\n",
       "    }\n",
       "</style>\n",
       "<table border=\"1\" class=\"dataframe\">\n",
       "  <thead>\n",
       "    <tr style=\"text-align: right;\">\n",
       "      <th></th>\n",
       "      <th>4</th>\n",
       "      <th>3</th>\n",
       "      <th>2</th>\n",
       "      <th>1</th>\n",
       "      <th>0</th>\n",
       "    </tr>\n",
       "  </thead>\n",
       "  <tbody>\n",
       "    <tr>\n",
       "      <th>0</th>\n",
       "      <td>0.846230</td>\n",
       "      <td>0.736054</td>\n",
       "      <td>0.245126</td>\n",
       "      <td>0.184751</td>\n",
       "      <td>0.074711</td>\n",
       "    </tr>\n",
       "    <tr>\n",
       "      <th>1</th>\n",
       "      <td>0.362083</td>\n",
       "      <td>0.120499</td>\n",
       "      <td>0.865032</td>\n",
       "      <td>0.956451</td>\n",
       "      <td>0.456324</td>\n",
       "    </tr>\n",
       "    <tr>\n",
       "      <th>2</th>\n",
       "      <td>0.473778</td>\n",
       "      <td>0.408284</td>\n",
       "      <td>0.322186</td>\n",
       "      <td>0.839167</td>\n",
       "      <td>0.240673</td>\n",
       "    </tr>\n",
       "    <tr>\n",
       "      <th>3</th>\n",
       "      <td>0.552918</td>\n",
       "      <td>0.700402</td>\n",
       "      <td>0.060861</td>\n",
       "      <td>0.047429</td>\n",
       "      <td>0.489025</td>\n",
       "    </tr>\n",
       "    <tr>\n",
       "      <th>4</th>\n",
       "      <td>0.827463</td>\n",
       "      <td>0.898225</td>\n",
       "      <td>0.753621</td>\n",
       "      <td>0.107365</td>\n",
       "      <td>0.427410</td>\n",
       "    </tr>\n",
       "    <tr>\n",
       "      <th>...</th>\n",
       "      <td>...</td>\n",
       "      <td>...</td>\n",
       "      <td>...</td>\n",
       "      <td>...</td>\n",
       "      <td>...</td>\n",
       "    </tr>\n",
       "    <tr>\n",
       "      <th>329</th>\n",
       "      <td>0.387721</td>\n",
       "      <td>0.616209</td>\n",
       "      <td>0.807358</td>\n",
       "      <td>0.790983</td>\n",
       "      <td>0.335668</td>\n",
       "    </tr>\n",
       "    <tr>\n",
       "      <th>330</th>\n",
       "      <td>0.589579</td>\n",
       "      <td>0.499491</td>\n",
       "      <td>0.027601</td>\n",
       "      <td>0.077560</td>\n",
       "      <td>0.905500</td>\n",
       "    </tr>\n",
       "    <tr>\n",
       "      <th>331</th>\n",
       "      <td>0.286638</td>\n",
       "      <td>0.071504</td>\n",
       "      <td>0.800564</td>\n",
       "      <td>0.788125</td>\n",
       "      <td>0.961280</td>\n",
       "    </tr>\n",
       "    <tr>\n",
       "      <th>332</th>\n",
       "      <td>0.582716</td>\n",
       "      <td>0.223307</td>\n",
       "      <td>0.170853</td>\n",
       "      <td>0.183453</td>\n",
       "      <td>0.233072</td>\n",
       "    </tr>\n",
       "    <tr>\n",
       "      <th>333</th>\n",
       "      <td>0.765434</td>\n",
       "      <td>0.983374</td>\n",
       "      <td>0.574072</td>\n",
       "      <td>0.979221</td>\n",
       "      <td>0.357225</td>\n",
       "    </tr>\n",
       "  </tbody>\n",
       "</table>\n",
       "<p>334 rows × 5 columns</p>\n",
       "</div>"
      ],
      "text/plain": [
       "            4         3         2         1         0\n",
       "0    0.846230  0.736054  0.245126  0.184751  0.074711\n",
       "1    0.362083  0.120499  0.865032  0.956451  0.456324\n",
       "2    0.473778  0.408284  0.322186  0.839167  0.240673\n",
       "3    0.552918  0.700402  0.060861  0.047429  0.489025\n",
       "4    0.827463  0.898225  0.753621  0.107365  0.427410\n",
       "..        ...       ...       ...       ...       ...\n",
       "329  0.387721  0.616209  0.807358  0.790983  0.335668\n",
       "330  0.589579  0.499491  0.027601  0.077560  0.905500\n",
       "331  0.286638  0.071504  0.800564  0.788125  0.961280\n",
       "332  0.582716  0.223307  0.170853  0.183453  0.233072\n",
       "333  0.765434  0.983374  0.574072  0.979221  0.357225\n",
       "\n",
       "[334 rows x 5 columns]"
      ]
     },
     "execution_count": 135,
     "metadata": {},
     "output_type": "execute_result"
    }
   ],
   "source": [
    "df.sort_index(axis=1, ascending=False).sort_index(axis=0,ascending=True)"
   ]
  },
  {
   "cell_type": "code",
   "execution_count": 136,
   "id": "eec2aed4-f626-4781-b9a9-8e3cd34232d8",
   "metadata": {},
   "outputs": [
    {
     "data": {
      "text/plain": [
       "pandas.core.series.Series"
      ]
     },
     "execution_count": 136,
     "metadata": {},
     "output_type": "execute_result"
    }
   ],
   "source": [
    "type(df[0])"
   ]
  },
  {
   "cell_type": "code",
   "execution_count": 137,
   "id": "132f72fb-23bd-44d8-950d-d9703e3d6fbe",
   "metadata": {},
   "outputs": [
    {
     "data": {
      "text/plain": [
       "pandas.core.frame.DataFrame"
      ]
     },
     "execution_count": 137,
     "metadata": {},
     "output_type": "execute_result"
    }
   ],
   "source": [
    "type(df)"
   ]
  },
  {
   "cell_type": "code",
   "execution_count": 180,
   "id": "a891e8dd-4e68-436b-bd74-b174646f4102",
   "metadata": {},
   "outputs": [
    {
     "data": {
      "text/html": [
       "<div>\n",
       "<style scoped>\n",
       "    .dataframe tbody tr th:only-of-type {\n",
       "        vertical-align: middle;\n",
       "    }\n",
       "\n",
       "    .dataframe tbody tr th {\n",
       "        vertical-align: top;\n",
       "    }\n",
       "\n",
       "    .dataframe thead th {\n",
       "        text-align: right;\n",
       "    }\n",
       "</style>\n",
       "<table border=\"1\" class=\"dataframe\">\n",
       "  <thead>\n",
       "    <tr style=\"text-align: right;\">\n",
       "      <th></th>\n",
       "      <th>0</th>\n",
       "      <th>1</th>\n",
       "      <th>2</th>\n",
       "      <th>3</th>\n",
       "      <th>4</th>\n",
       "    </tr>\n",
       "  </thead>\n",
       "  <tbody>\n",
       "    <tr>\n",
       "      <th>0</th>\n",
       "      <td>0.736152</td>\n",
       "      <td>0.968261</td>\n",
       "      <td>0.444183</td>\n",
       "      <td>0.332367</td>\n",
       "      <td>0.296220</td>\n",
       "    </tr>\n",
       "    <tr>\n",
       "      <th>1</th>\n",
       "      <td>0.199034</td>\n",
       "      <td>0.409356</td>\n",
       "      <td>0.705476</td>\n",
       "      <td>0.733176</td>\n",
       "      <td>0.691570</td>\n",
       "    </tr>\n",
       "    <tr>\n",
       "      <th>2</th>\n",
       "      <td>0.008146</td>\n",
       "      <td>0.749982</td>\n",
       "      <td>0.093362</td>\n",
       "      <td>0.129468</td>\n",
       "      <td>0.474763</td>\n",
       "    </tr>\n",
       "    <tr>\n",
       "      <th>3</th>\n",
       "      <td>0.341940</td>\n",
       "      <td>0.294000</td>\n",
       "      <td>0.805534</td>\n",
       "      <td>0.812826</td>\n",
       "      <td>0.039391</td>\n",
       "    </tr>\n",
       "    <tr>\n",
       "      <th>4</th>\n",
       "      <td>0.775285</td>\n",
       "      <td>0.692634</td>\n",
       "      <td>0.909390</td>\n",
       "      <td>0.826066</td>\n",
       "      <td>0.599017</td>\n",
       "    </tr>\n",
       "  </tbody>\n",
       "</table>\n",
       "</div>"
      ],
      "text/plain": [
       "          0         1         2         3         4\n",
       "0  0.736152  0.968261  0.444183  0.332367  0.296220\n",
       "1  0.199034  0.409356  0.705476  0.733176  0.691570\n",
       "2  0.008146  0.749982  0.093362  0.129468  0.474763\n",
       "3  0.341940  0.294000  0.805534  0.812826  0.039391\n",
       "4  0.775285  0.692634  0.909390  0.826066  0.599017"
      ]
     },
     "execution_count": 180,
     "metadata": {},
     "output_type": "execute_result"
    }
   ],
   "source": [
    "df.head()"
   ]
  },
  {
   "cell_type": "code",
   "execution_count": 229,
   "id": "3a82b788-35d6-4d76-bc5c-fde5068b56ed",
   "metadata": {},
   "outputs": [],
   "source": [
    "\n",
    "    df.loc[[5],:]=10"
   ]
  },
  {
   "cell_type": "code",
   "execution_count": 230,
   "id": "938ea9cd-74d8-46b7-86c5-4ad8139eb57f",
   "metadata": {},
   "outputs": [
    {
     "data": {
      "text/html": [
       "<div>\n",
       "<style scoped>\n",
       "    .dataframe tbody tr th:only-of-type {\n",
       "        vertical-align: middle;\n",
       "    }\n",
       "\n",
       "    .dataframe tbody tr th {\n",
       "        vertical-align: top;\n",
       "    }\n",
       "\n",
       "    .dataframe thead th {\n",
       "        text-align: right;\n",
       "    }\n",
       "</style>\n",
       "<table border=\"1\" class=\"dataframe\">\n",
       "  <thead>\n",
       "    <tr style=\"text-align: right;\">\n",
       "      <th></th>\n",
       "      <th>0</th>\n",
       "      <th>1</th>\n",
       "      <th>2</th>\n",
       "      <th>3</th>\n",
       "      <th>4</th>\n",
       "    </tr>\n",
       "  </thead>\n",
       "  <tbody>\n",
       "    <tr>\n",
       "      <th>0</th>\n",
       "      <td>None</td>\n",
       "      <td>0.777058</td>\n",
       "      <td>0.861738</td>\n",
       "      <td>0.105043</td>\n",
       "      <td>0.589601</td>\n",
       "    </tr>\n",
       "    <tr>\n",
       "      <th>1</th>\n",
       "      <td>None</td>\n",
       "      <td>0.355065</td>\n",
       "      <td>0.508064</td>\n",
       "      <td>0.305498</td>\n",
       "      <td>0.095504</td>\n",
       "    </tr>\n",
       "    <tr>\n",
       "      <th>2</th>\n",
       "      <td>None</td>\n",
       "      <td>0.189542</td>\n",
       "      <td>0.453331</td>\n",
       "      <td>0.943215</td>\n",
       "      <td>0.356195</td>\n",
       "    </tr>\n",
       "    <tr>\n",
       "      <th>3</th>\n",
       "      <td>None</td>\n",
       "      <td>0.758604</td>\n",
       "      <td>0.632594</td>\n",
       "      <td>0.187695</td>\n",
       "      <td>0.871638</td>\n",
       "    </tr>\n",
       "    <tr>\n",
       "      <th>4</th>\n",
       "      <td>None</td>\n",
       "      <td>0.860924</td>\n",
       "      <td>0.671579</td>\n",
       "      <td>0.643952</td>\n",
       "      <td>0.716854</td>\n",
       "    </tr>\n",
       "    <tr>\n",
       "      <th>5</th>\n",
       "      <td>10</td>\n",
       "      <td>10.000000</td>\n",
       "      <td>10.000000</td>\n",
       "      <td>10.000000</td>\n",
       "      <td>10.000000</td>\n",
       "    </tr>\n",
       "  </tbody>\n",
       "</table>\n",
       "</div>"
      ],
      "text/plain": [
       "      0          1          2          3          4\n",
       "0  None   0.777058   0.861738   0.105043   0.589601\n",
       "1  None   0.355065   0.508064   0.305498   0.095504\n",
       "2  None   0.189542   0.453331   0.943215   0.356195\n",
       "3  None   0.758604   0.632594   0.187695   0.871638\n",
       "4  None   0.860924   0.671579   0.643952   0.716854\n",
       "5    10  10.000000  10.000000  10.000000  10.000000"
      ]
     },
     "execution_count": 230,
     "metadata": {},
     "output_type": "execute_result"
    }
   ],
   "source": [
    "df.head(6)"
   ]
  },
  {
   "cell_type": "code",
   "execution_count": 226,
   "id": "cfb6500d-a697-48b9-be44-997d2312ab3b",
   "metadata": {},
   "outputs": [
    {
     "data": {
      "text/html": [
       "<div>\n",
       "<style scoped>\n",
       "    .dataframe tbody tr th:only-of-type {\n",
       "        vertical-align: middle;\n",
       "    }\n",
       "\n",
       "    .dataframe tbody tr th {\n",
       "        vertical-align: top;\n",
       "    }\n",
       "\n",
       "    .dataframe thead th {\n",
       "        text-align: right;\n",
       "    }\n",
       "</style>\n",
       "<table border=\"1\" class=\"dataframe\">\n",
       "  <thead>\n",
       "    <tr style=\"text-align: right;\">\n",
       "      <th></th>\n",
       "      <th>0</th>\n",
       "      <th>1</th>\n",
       "      <th>2</th>\n",
       "      <th>3</th>\n",
       "      <th>4</th>\n",
       "    </tr>\n",
       "  </thead>\n",
       "  <tbody>\n",
       "    <tr>\n",
       "      <th>0</th>\n",
       "      <td>0.884377</td>\n",
       "      <td>0.777058</td>\n",
       "      <td>0.861738</td>\n",
       "      <td>0.105043</td>\n",
       "      <td>0.589601</td>\n",
       "    </tr>\n",
       "    <tr>\n",
       "      <th>1</th>\n",
       "      <td>0.583132</td>\n",
       "      <td>0.355065</td>\n",
       "      <td>0.508064</td>\n",
       "      <td>0.305498</td>\n",
       "      <td>0.095504</td>\n",
       "    </tr>\n",
       "    <tr>\n",
       "      <th>2</th>\n",
       "      <td>0.205633</td>\n",
       "      <td>0.189542</td>\n",
       "      <td>0.453331</td>\n",
       "      <td>0.943215</td>\n",
       "      <td>0.356195</td>\n",
       "    </tr>\n",
       "    <tr>\n",
       "      <th>3</th>\n",
       "      <td>0.282920</td>\n",
       "      <td>0.758604</td>\n",
       "      <td>0.632594</td>\n",
       "      <td>0.187695</td>\n",
       "      <td>0.871638</td>\n",
       "    </tr>\n",
       "    <tr>\n",
       "      <th>4</th>\n",
       "      <td>0.209586</td>\n",
       "      <td>0.860924</td>\n",
       "      <td>0.671579</td>\n",
       "      <td>0.643952</td>\n",
       "      <td>0.716854</td>\n",
       "    </tr>\n",
       "    <tr>\n",
       "      <th>...</th>\n",
       "      <td>...</td>\n",
       "      <td>...</td>\n",
       "      <td>...</td>\n",
       "      <td>...</td>\n",
       "      <td>...</td>\n",
       "    </tr>\n",
       "    <tr>\n",
       "      <th>329</th>\n",
       "      <td>0.176175</td>\n",
       "      <td>0.693780</td>\n",
       "      <td>0.398547</td>\n",
       "      <td>0.522760</td>\n",
       "      <td>0.414123</td>\n",
       "    </tr>\n",
       "    <tr>\n",
       "      <th>330</th>\n",
       "      <td>0.698700</td>\n",
       "      <td>0.408462</td>\n",
       "      <td>0.859656</td>\n",
       "      <td>0.544053</td>\n",
       "      <td>0.948357</td>\n",
       "    </tr>\n",
       "    <tr>\n",
       "      <th>331</th>\n",
       "      <td>0.025465</td>\n",
       "      <td>0.845953</td>\n",
       "      <td>0.606408</td>\n",
       "      <td>0.221652</td>\n",
       "      <td>0.395573</td>\n",
       "    </tr>\n",
       "    <tr>\n",
       "      <th>332</th>\n",
       "      <td>0.040020</td>\n",
       "      <td>0.583851</td>\n",
       "      <td>0.965152</td>\n",
       "      <td>0.051991</td>\n",
       "      <td>0.270318</td>\n",
       "    </tr>\n",
       "    <tr>\n",
       "      <th>333</th>\n",
       "      <td>0.001629</td>\n",
       "      <td>0.734099</td>\n",
       "      <td>0.583950</td>\n",
       "      <td>0.440281</td>\n",
       "      <td>0.161005</td>\n",
       "    </tr>\n",
       "  </tbody>\n",
       "</table>\n",
       "<p>334 rows × 5 columns</p>\n",
       "</div>"
      ],
      "text/plain": [
       "            0         1         2         3         4\n",
       "0    0.884377  0.777058  0.861738  0.105043  0.589601\n",
       "1    0.583132  0.355065  0.508064  0.305498  0.095504\n",
       "2    0.205633  0.189542  0.453331  0.943215  0.356195\n",
       "3    0.282920  0.758604  0.632594  0.187695  0.871638\n",
       "4    0.209586  0.860924  0.671579  0.643952  0.716854\n",
       "..        ...       ...       ...       ...       ...\n",
       "329  0.176175  0.693780  0.398547  0.522760  0.414123\n",
       "330  0.698700  0.408462  0.859656  0.544053  0.948357\n",
       "331  0.025465  0.845953  0.606408  0.221652  0.395573\n",
       "332  0.040020  0.583851  0.965152  0.051991  0.270318\n",
       "333  0.001629  0.734099  0.583950  0.440281  0.161005\n",
       "\n",
       "[334 rows x 5 columns]"
      ]
     },
     "execution_count": 226,
     "metadata": {},
     "output_type": "execute_result"
    }
   ],
   "source": [
    "df"
   ]
  },
  {
   "cell_type": "code",
   "execution_count": null,
   "id": "8e03eded-8f8f-4720-9e76-676c81d8fe1c",
   "metadata": {},
   "outputs": [],
   "source": []
  }
 ],
 "metadata": {
  "kernelspec": {
   "display_name": "Python 3 (ipykernel)",
   "language": "python",
   "name": "python3"
  },
  "language_info": {
   "codemirror_mode": {
    "name": "ipython",
    "version": 3
   },
   "file_extension": ".py",
   "mimetype": "text/x-python",
   "name": "python",
   "nbconvert_exporter": "python",
   "pygments_lexer": "ipython3",
   "version": "3.12.4"
  }
 },
 "nbformat": 4,
 "nbformat_minor": 5
}
